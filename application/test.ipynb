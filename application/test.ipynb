{
 "cells": [
  {
   "cell_type": "code",
   "execution_count": 1,
   "metadata": {},
   "outputs": [
    {
     "name": "stdout",
     "output_type": "stream",
     "text": [
      "['233800-240125051452.jpg', '233800-240125051513.jpg', '233800-240125051606.jpg', '233800-240125051621.jpg', '233801-240125052635.jpg', '233801-240125052651.jpg', '233801-240125052716.jpg', '233801-240125052738.jpg', '233802-240125050531.jpg', '233802-240125050605.jpg', '233803-240125044110.jpg', '233803-240125045115.jpg', 'Scale-1x-240125044747.jpg', 'Scale-1x-240125044827.jpg']\n"
     ]
    }
   ],
   "source": [
    "import os\n",
    "\n",
    "# get the contents of the directory\n",
    "directory_contents = os.listdir('../data/input/')\n",
    "print(directory_contents)"
   ]
  },
  {
   "cell_type": "code",
   "execution_count": null,
   "metadata": {},
   "outputs": [],
   "source": []
  }
 ],
 "metadata": {
  "kernelspec": {
   "display_name": "Python 3",
   "language": "python",
   "name": "python3"
  },
  "language_info": {
   "codemirror_mode": {
    "name": "ipython",
    "version": 3
   },
   "file_extension": ".py",
   "mimetype": "text/x-python",
   "name": "python",
   "nbconvert_exporter": "python",
   "pygments_lexer": "ipython3",
   "version": "3.12.2"
  }
 },
 "nbformat": 4,
 "nbformat_minor": 2
}
